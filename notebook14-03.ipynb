{
 "cells": [
  {
   "cell_type": "markdown",
   "metadata": {},
   "source": [
    "<h2 style='color:#9F2222;'>Programação de Computadores</h2>\n",
    "<p style='color: #2255FF;'><a style='cursor: pointer;'>Aula 03: operadores</a></p>"
   ]
  },
  {
   "cell_type": "code",
   "execution_count": 5,
   "metadata": {},
   "outputs": [
    {
     "name": "stdout",
     "output_type": "stream",
     "text": [
      "1-) 610\n",
      "2-) 1.4\n",
      "3-) 575\n",
      "4-) 10717.75\n"
     ]
    }
   ],
   "source": [
    "#1) 10 + 20 * 30\n",
    "print('1-) ' + str(eval('10 + (20 * 30)')))\n",
    "#2) 42 / 30\n",
    "print('2-) ' + str(eval('42 / 30')))\n",
    "#3) (94 + 2) * 6 - 1\n",
    "print('3-) ' + str(eval('(94 + 2) * 6 - 1')))\n",
    "#4) 22³ - 45/4 + 81\n",
    "print('4-) ' + str(eval('(22 ** 3) - (45/4) + 81')))"
   ]
  }
 ],
 "metadata": {
  "interpreter": {
   "hash": "b89b5cfaba6639976dc87ff2fec6d58faec662063367e2c229c520fe71072417"
  },
  "kernelspec": {
   "display_name": "Python 3.10.2 64-bit",
   "language": "python",
   "name": "python3"
  },
  "language_info": {
   "codemirror_mode": {
    "name": "ipython",
    "version": 3
   },
   "file_extension": ".py",
   "mimetype": "text/x-python",
   "name": "python",
   "nbconvert_exporter": "python",
   "pygments_lexer": "ipython3",
   "version": "3.10.2"
  },
  "orig_nbformat": 4
 },
 "nbformat": 4,
 "nbformat_minor": 2
}
